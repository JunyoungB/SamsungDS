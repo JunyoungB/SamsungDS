{
 "cells": [
  {
   "cell_type": "markdown",
   "metadata": {},
   "source": [
    "## Reduced Row Echelon form"
   ]
  },
  {
   "cell_type": "code",
   "execution_count": 1,
   "metadata": {},
   "outputs": [],
   "source": [
    "import numpy as np\n",
    "import sympy"
   ]
  },
  {
   "cell_type": "code",
   "execution_count": 2,
   "metadata": {},
   "outputs": [],
   "source": [
    "# MATLAB code\n",
    "# function [A,jb] = rref(A,tol)\n",
    "# %RREF Reduced row echelon form.\n",
    "# % R = RREF(A) produces the reduced row echelon form of A.\n",
    "# %\n",
    "# % [R,jb] = RREF(A) also returns a vector, jb, so that:\n",
    "# % r = length(jb) is this algorithm’s idea of the rank of A,\n",
    "# % x(jb) are the bound variables in a linear system, Ax = b,\n",
    "# % A(:,jb) is a basis for the range of A,\n",
    "# % R(1:r,jb) is the r-by-r identity matrix.\n",
    "# % [R,jb] = RREF(A,TOL) uses the given tolerance in the rank tests."
   ]
  },
  {
   "cell_type": "code",
   "execution_count": 3,
   "metadata": {},
   "outputs": [],
   "source": [
    "def RREF(matrix):\n",
    "    # m : the number of rows\n",
    "    # n : the number of columns\n",
    "    m, n = matrix.shape\n",
    "    A = matrix.astype(float).copy()\n",
    "    \n",
    "    pcol_list = []\n",
    "    prow = -1\n",
    "    pcol = -1\n",
    "    \n",
    "    # For each columns\n",
    "    while True :\n",
    "        \n",
    "        prow += 1\n",
    "        pcol += 1\n",
    "        \n",
    "        if prow == m or pcol == n : break\n",
    "        \n",
    "        pid = np.argmax(abs(A[prow:,pcol])) + prow\n",
    "        \n",
    "        # Get pivot value\n",
    "        pivot = float(A[pid, pcol])\n",
    "        \n",
    "        if pivot == 0 :\n",
    "            \n",
    "            prow -= 1\n",
    "            continue\n",
    "            \n",
    "        else :\n",
    "            \n",
    "            pcol_list.append(pcol)\n",
    "            \n",
    "            A[prow,:], A[pid,:] = A[pid,:].copy(), A[prow,:].copy()\n",
    "\n",
    "            # Substitution each rows\n",
    "            for i in range(m):\n",
    "                if prow == i : continue\n",
    "                mul = float(A[i,pcol])/pivot\n",
    "                A[i,:] = A[i,:] - A[prow,:]*mul\n",
    "\n",
    "            A[prow,:] /= pivot\n",
    "\n",
    "            A = np.around(A, 4)\n",
    "        \n",
    "    return A, pcol_list"
   ]
  },
  {
   "cell_type": "code",
   "execution_count": 4,
   "metadata": {},
   "outputs": [],
   "source": [
    "A = np.array([[1,3,3,2],[0,1,3,1],[0,1,3,0]])"
   ]
  },
  {
   "cell_type": "code",
   "execution_count": 5,
   "metadata": {},
   "outputs": [
    {
     "data": {
      "text/plain": [
       "(array([[ 1.,  0., -6.,  0.],\n",
       "        [ 0.,  1.,  3.,  0.],\n",
       "        [-0., -0., -0.,  1.]]), [0, 1, 3])"
      ]
     },
     "execution_count": 5,
     "metadata": {},
     "output_type": "execute_result"
    }
   ],
   "source": [
    "RREF(A)"
   ]
  },
  {
   "cell_type": "code",
   "execution_count": 6,
   "metadata": {},
   "outputs": [
    {
     "data": {
      "text/plain": [
       "(Matrix([\n",
       " [1, 0, -6, 0],\n",
       " [0, 1,  3, 0],\n",
       " [0, 0,  0, 1]]), (0, 1, 3))"
      ]
     },
     "execution_count": 6,
     "metadata": {},
     "output_type": "execute_result"
    }
   ],
   "source": [
    "sympy.Matrix(A).rref()"
   ]
  },
  {
   "cell_type": "code",
   "execution_count": 7,
   "metadata": {},
   "outputs": [],
   "source": [
    "B = np.array([[1,3,3],[0,1,2]])"
   ]
  },
  {
   "cell_type": "code",
   "execution_count": 8,
   "metadata": {
    "scrolled": true
   },
   "outputs": [
    {
     "data": {
      "text/plain": [
       "((array([[ 1.,  0., -3.],\n",
       "         [ 0.,  1.,  2.]]), [0, 1]), (Matrix([\n",
       "  [1, 0, -3],\n",
       "  [0, 1,  2]]), (0, 1)))"
      ]
     },
     "execution_count": 8,
     "metadata": {},
     "output_type": "execute_result"
    }
   ],
   "source": [
    "RREF(B), sympy.Matrix(B).rref()"
   ]
  },
  {
   "cell_type": "markdown",
   "metadata": {},
   "source": [
    "## Paricular solution of Ax=b"
   ]
  },
  {
   "cell_type": "code",
   "execution_count": 9,
   "metadata": {},
   "outputs": [],
   "source": [
    "# MATLAB\n",
    "# function x = partic_sol(A, b)\n",
    "# [m, n] = size(A);\n",
    "# [R, pivcol] = rref([A b]);\n",
    "# r = length(pivcol);\n",
    "# if max(pivcol) == n+1\n",
    "# x = [];\n",
    "# else\n",
    "# x = zeros(n, 1);\n",
    "# d = R(:, n+1);\n",
    "# x(pivcol) = d(1:r);\n",
    "# end"
   ]
  },
  {
   "cell_type": "code",
   "execution_count": 10,
   "metadata": {},
   "outputs": [],
   "source": [
    "def ParitalSol(matrix, b) :\n",
    "    m, n = matrix.shape\n",
    "    R, pivcol = RREF(np.concatenate((matrix, b.T), axis=1))\n",
    "    \n",
    "    if max(pivcol) == n+1 :\n",
    "        \n",
    "        print(\"No Solution\")\n",
    "        return []\n",
    "    \n",
    "    else :    \n",
    "        \n",
    "        r = len(pivcol)\n",
    "        return R[:, n][0:r]"
   ]
  },
  {
   "cell_type": "code",
   "execution_count": 11,
   "metadata": {},
   "outputs": [],
   "source": [
    "A = np.array([[1, 0], [1, -1]])\n",
    "b = np.array([[2, 3]])"
   ]
  },
  {
   "cell_type": "code",
   "execution_count": 12,
   "metadata": {},
   "outputs": [
    {
     "data": {
      "text/plain": [
       "array([ 2., -1.])"
      ]
     },
     "execution_count": 12,
     "metadata": {},
     "output_type": "execute_result"
    }
   ],
   "source": [
    "ParitalSol(A, b)"
   ]
  },
  {
   "cell_type": "markdown",
   "metadata": {},
   "source": [
    "## Matrix Operation"
   ]
  },
  {
   "cell_type": "code",
   "execution_count": 13,
   "metadata": {},
   "outputs": [],
   "source": [
    "import scipy\n",
    "from scipy import matrix\n",
    "import numpy as np"
   ]
  },
  {
   "cell_type": "code",
   "execution_count": 14,
   "metadata": {},
   "outputs": [],
   "source": [
    "import matplotlib.pyplot as plt\n",
    "%matplotlib inline"
   ]
  },
  {
   "cell_type": "markdown",
   "metadata": {},
   "source": [
    "### Scaling"
   ]
  },
  {
   "cell_type": "code",
   "execution_count": 15,
   "metadata": {},
   "outputs": [],
   "source": [
    "A = matrix([1,0]).T"
   ]
  },
  {
   "cell_type": "code",
   "execution_count": 16,
   "metadata": {},
   "outputs": [],
   "source": [
    "scale = matrix([[1/2, 0], [0, 1/2]])"
   ]
  },
  {
   "cell_type": "code",
   "execution_count": 17,
   "metadata": {},
   "outputs": [
    {
     "data": {
      "text/plain": [
       "matrix([[0.5],\n",
       "        [0. ]])"
      ]
     },
     "execution_count": 17,
     "metadata": {},
     "output_type": "execute_result"
    }
   ],
   "source": [
    "scale*A"
   ]
  },
  {
   "cell_type": "markdown",
   "metadata": {},
   "source": [
    "### Rotation"
   ]
  },
  {
   "cell_type": "code",
   "execution_count": 18,
   "metadata": {
    "scrolled": true
   },
   "outputs": [],
   "source": [
    "A = matrix([1,0]).T"
   ]
  },
  {
   "cell_type": "code",
   "execution_count": 19,
   "metadata": {},
   "outputs": [],
   "source": [
    "rotation = matrix([[0, -1], [1, 0]]) # 90도 회전"
   ]
  },
  {
   "cell_type": "code",
   "execution_count": 20,
   "metadata": {},
   "outputs": [
    {
     "data": {
      "text/plain": [
       "matrix([[0],\n",
       "        [1]])"
      ]
     },
     "execution_count": 20,
     "metadata": {},
     "output_type": "execute_result"
    }
   ],
   "source": [
    "rotation*A"
   ]
  },
  {
   "cell_type": "markdown",
   "metadata": {},
   "source": [
    "### Reflection"
   ]
  },
  {
   "cell_type": "code",
   "execution_count": 21,
   "metadata": {
    "scrolled": true
   },
   "outputs": [],
   "source": [
    "A = matrix([1,0]).T"
   ]
  },
  {
   "cell_type": "code",
   "execution_count": 22,
   "metadata": {},
   "outputs": [],
   "source": [
    "reflection = matrix([[-1, 0], [0, -1]])"
   ]
  },
  {
   "cell_type": "code",
   "execution_count": 23,
   "metadata": {},
   "outputs": [
    {
     "data": {
      "text/plain": [
       "matrix([[-1],\n",
       "        [ 0]])"
      ]
     },
     "execution_count": 23,
     "metadata": {},
     "output_type": "execute_result"
    }
   ],
   "source": [
    "reflection*A"
   ]
  },
  {
   "cell_type": "markdown",
   "metadata": {},
   "source": [
    "### Vector Plot"
   ]
  },
  {
   "cell_type": "code",
   "execution_count": 24,
   "metadata": {},
   "outputs": [],
   "source": [
    "def plot_vector(vector) :\n",
    "    origin = matrix([0, 0]).T\n",
    "    plt.figure(figsize=(5,5))\n",
    "    plt.quiver(*origin, *vector, angles='xy', scale_units='xy', scale=1)\n",
    "    plt.xlim(-5, 5)\n",
    "    plt.ylim(-5, 5)\n",
    "    plt.show()"
   ]
  },
  {
   "cell_type": "code",
   "execution_count": 25,
   "metadata": {},
   "outputs": [
    {
     "data": {
      "image/png": "[encoded data removed]",
      "text/plain": [
       "<Figure size 360x360 with 1 Axes>"
      ]
     },
     "metadata": {},
     "output_type": "display_data"
    }
   ],
   "source": [
    "vector = matrix([2, 2]).T\n",
    "plot_vector(vector)"
   ]
  },
  {
   "cell_type": "code",
   "execution_count": 26,
   "metadata": {},
   "outputs": [
    {
     "data": {
      "image/png": "[encoded data removed]",
      "text/plain": [
       "<Figure size 360x360 with 1 Axes>"
      ]
     },
     "metadata": {},
     "output_type": "display_data"
    }
   ],
   "source": [
    "vector_new = rotation*scale*vector\n",
    "plot_vector(vector_new)"
   ]
  }
 ],
 "metadata": {
  "kernelspec": {
   "display_name": "Python 3",
   "language": "python",
   "name": "python3"
  },
  "language_info": {
   "codemirror_mode": {
    "name": "ipython",
    "version": 3
   },
   "file_extension": ".py",
   "mimetype": "text/x-python",
   "name": "python",
   "nbconvert_exporter": "python",
   "pygments_lexer": "ipython3",
   "version": "3.6.5"
  }
 },
 "nbformat": 4,
 "nbformat_minor": 2
}
